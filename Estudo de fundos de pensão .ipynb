{
 "cells": [
  {
   "cell_type": "markdown",
   "metadata": {},
   "source": [
    "# Estudo de COMPRA de fundos imobiliários\n",
    "#### O objetivo é criar uma carteira diversificada de FI's com objetivo de: \n",
    "###### i. risco mínimo\n",
    "###### ii. valorização"
   ]
  },
  {
   "cell_type": "code",
   "execution_count": 1,
   "metadata": {},
   "outputs": [],
   "source": [
    "import pandas as pd\n",
    "import numpy as np\n",
    "import pandas_datareader as web\n",
    "import matplotlib.pyplot as plt\n",
    "import seaborn as sns"
   ]
  },
  {
   "cell_type": "code",
   "execution_count": 2,
   "metadata": {},
   "outputs": [],
   "source": [
    "import random as rdm\n",
    "import statsmodels as mld"
   ]
  },
  {
   "cell_type": "code",
   "execution_count": 3,
   "metadata": {},
   "outputs": [],
   "source": [
    "import decimal\n",
    "from decimal import Decimal"
   ]
  },
  {
   "cell_type": "code",
   "execution_count": 4,
   "metadata": {},
   "outputs": [
    {
     "data": {
      "text/plain": [
       "Context(prec=28, rounding=ROUND_HALF_EVEN, Emin=-999999, Emax=999999, capitals=1, clamp=0, flags=[], traps=[InvalidOperation, DivisionByZero, Overflow])"
      ]
     },
     "execution_count": 4,
     "metadata": {},
     "output_type": "execute_result"
    }
   ],
   "source": [
    "decimal.getcontext()"
   ]
  },
  {
   "cell_type": "code",
   "execution_count": 5,
   "metadata": {},
   "outputs": [],
   "source": [
    "decimal.getcontext(). prec = 50"
   ]
  },
  {
   "cell_type": "code",
   "execution_count": 6,
   "metadata": {},
   "outputs": [],
   "source": [
    "tickers = ['HSML11.SA', 'HGRU11.SA', 'BRCR11.SA','MGFF11.SA', 'RBRF11.SA', 'ALZR11.SA', 'HGLG11.SA', 'XPLG11.SA', 'VRTA11.SA', 'XPML11.SA', 'HGRE11.SA']\n",
    " \n",
    "df_FI = pd.DataFrame()\n",
    "    \n",
    "for t in tickers:\n",
    "    df_FI[t] = web.DataReader(t, data_source= 'yahoo', start = '2019-1-1') ['Adj Close']\n",
    "    "
   ]
  },
  {
   "cell_type": "code",
   "execution_count": 7,
   "metadata": {
    "scrolled": true
   },
   "outputs": [
    {
     "data": {
      "text/html": [
       "<div>\n",
       "<style scoped>\n",
       "    .dataframe tbody tr th:only-of-type {\n",
       "        vertical-align: middle;\n",
       "    }\n",
       "\n",
       "    .dataframe tbody tr th {\n",
       "        vertical-align: top;\n",
       "    }\n",
       "\n",
       "    .dataframe thead th {\n",
       "        text-align: right;\n",
       "    }\n",
       "</style>\n",
       "<table border=\"1\" class=\"dataframe\">\n",
       "  <thead>\n",
       "    <tr style=\"text-align: right;\">\n",
       "      <th></th>\n",
       "      <th>HSML11.SA</th>\n",
       "      <th>HGRU11.SA</th>\n",
       "      <th>BRCR11.SA</th>\n",
       "      <th>MGFF11.SA</th>\n",
       "      <th>RBRF11.SA</th>\n",
       "      <th>ALZR11.SA</th>\n",
       "      <th>HGLG11.SA</th>\n",
       "      <th>XPLG11.SA</th>\n",
       "      <th>VRTA11.SA</th>\n",
       "      <th>XPML11.SA</th>\n",
       "      <th>HGRE11.SA</th>\n",
       "    </tr>\n",
       "    <tr>\n",
       "      <th>Date</th>\n",
       "      <th></th>\n",
       "      <th></th>\n",
       "      <th></th>\n",
       "      <th></th>\n",
       "      <th></th>\n",
       "      <th></th>\n",
       "      <th></th>\n",
       "      <th></th>\n",
       "      <th></th>\n",
       "      <th></th>\n",
       "      <th></th>\n",
       "    </tr>\n",
       "  </thead>\n",
       "  <tbody>\n",
       "    <tr>\n",
       "      <th>2019-08-16</th>\n",
       "      <td>102.099998</td>\n",
       "      <td>112.900002</td>\n",
       "      <td>96.199997</td>\n",
       "      <td>98.500000</td>\n",
       "      <td>104.230003</td>\n",
       "      <td>106.300003</td>\n",
       "      <td>NaN</td>\n",
       "      <td>106.250000</td>\n",
       "      <td>123.389999</td>\n",
       "      <td>111.739998</td>\n",
       "      <td>163.800003</td>\n",
       "    </tr>\n",
       "    <tr>\n",
       "      <th>2019-08-19</th>\n",
       "      <td>103.099998</td>\n",
       "      <td>112.209999</td>\n",
       "      <td>96.169998</td>\n",
       "      <td>98.500000</td>\n",
       "      <td>104.300003</td>\n",
       "      <td>105.760002</td>\n",
       "      <td>NaN</td>\n",
       "      <td>106.000000</td>\n",
       "      <td>124.349998</td>\n",
       "      <td>111.639999</td>\n",
       "      <td>159.520004</td>\n",
       "    </tr>\n",
       "    <tr>\n",
       "      <th>2019-08-20</th>\n",
       "      <td>102.730003</td>\n",
       "      <td>113.059998</td>\n",
       "      <td>96.099998</td>\n",
       "      <td>98.900002</td>\n",
       "      <td>104.000000</td>\n",
       "      <td>105.500000</td>\n",
       "      <td>NaN</td>\n",
       "      <td>106.000000</td>\n",
       "      <td>124.199997</td>\n",
       "      <td>111.339996</td>\n",
       "      <td>156.490005</td>\n",
       "    </tr>\n",
       "    <tr>\n",
       "      <th>2019-08-21</th>\n",
       "      <td>103.000000</td>\n",
       "      <td>113.699997</td>\n",
       "      <td>95.500000</td>\n",
       "      <td>98.199997</td>\n",
       "      <td>104.000000</td>\n",
       "      <td>105.699997</td>\n",
       "      <td>NaN</td>\n",
       "      <td>105.760002</td>\n",
       "      <td>124.199997</td>\n",
       "      <td>111.110001</td>\n",
       "      <td>153.149994</td>\n",
       "    </tr>\n",
       "    <tr>\n",
       "      <th>2019-08-22</th>\n",
       "      <td>102.610001</td>\n",
       "      <td>113.000000</td>\n",
       "      <td>95.480003</td>\n",
       "      <td>98.400002</td>\n",
       "      <td>104.459999</td>\n",
       "      <td>105.599998</td>\n",
       "      <td>NaN</td>\n",
       "      <td>106.080002</td>\n",
       "      <td>124.290001</td>\n",
       "      <td>111.690002</td>\n",
       "      <td>152.050003</td>\n",
       "    </tr>\n",
       "  </tbody>\n",
       "</table>\n",
       "</div>"
      ],
      "text/plain": [
       "             HSML11.SA   HGRU11.SA  BRCR11.SA  MGFF11.SA   RBRF11.SA  \\\n",
       "Date                                                                   \n",
       "2019-08-16  102.099998  112.900002  96.199997  98.500000  104.230003   \n",
       "2019-08-19  103.099998  112.209999  96.169998  98.500000  104.300003   \n",
       "2019-08-20  102.730003  113.059998  96.099998  98.900002  104.000000   \n",
       "2019-08-21  103.000000  113.699997  95.500000  98.199997  104.000000   \n",
       "2019-08-22  102.610001  113.000000  95.480003  98.400002  104.459999   \n",
       "\n",
       "             ALZR11.SA  HGLG11.SA   XPLG11.SA   VRTA11.SA   XPML11.SA  \\\n",
       "Date                                                                    \n",
       "2019-08-16  106.300003        NaN  106.250000  123.389999  111.739998   \n",
       "2019-08-19  105.760002        NaN  106.000000  124.349998  111.639999   \n",
       "2019-08-20  105.500000        NaN  106.000000  124.199997  111.339996   \n",
       "2019-08-21  105.699997        NaN  105.760002  124.199997  111.110001   \n",
       "2019-08-22  105.599998        NaN  106.080002  124.290001  111.690002   \n",
       "\n",
       "             HGRE11.SA  \n",
       "Date                    \n",
       "2019-08-16  163.800003  \n",
       "2019-08-19  159.520004  \n",
       "2019-08-20  156.490005  \n",
       "2019-08-21  153.149994  \n",
       "2019-08-22  152.050003  "
      ]
     },
     "execution_count": 7,
     "metadata": {},
     "output_type": "execute_result"
    }
   ],
   "source": [
    "# conferencia dos dados\n",
    "df_FI.head()"
   ]
  },
  {
   "cell_type": "code",
   "execution_count": 8,
   "metadata": {},
   "outputs": [],
   "source": [
    "df_fi = df_FI.dropna()"
   ]
  },
  {
   "cell_type": "code",
   "execution_count": 9,
   "metadata": {},
   "outputs": [
    {
     "data": {
      "text/html": [
       "<div>\n",
       "<style scoped>\n",
       "    .dataframe tbody tr th:only-of-type {\n",
       "        vertical-align: middle;\n",
       "    }\n",
       "\n",
       "    .dataframe tbody tr th {\n",
       "        vertical-align: top;\n",
       "    }\n",
       "\n",
       "    .dataframe thead th {\n",
       "        text-align: right;\n",
       "    }\n",
       "</style>\n",
       "<table border=\"1\" class=\"dataframe\">\n",
       "  <thead>\n",
       "    <tr style=\"text-align: right;\">\n",
       "      <th></th>\n",
       "      <th>HSML11.SA</th>\n",
       "      <th>HGRU11.SA</th>\n",
       "      <th>BRCR11.SA</th>\n",
       "      <th>MGFF11.SA</th>\n",
       "      <th>RBRF11.SA</th>\n",
       "      <th>ALZR11.SA</th>\n",
       "      <th>HGLG11.SA</th>\n",
       "      <th>XPLG11.SA</th>\n",
       "      <th>VRTA11.SA</th>\n",
       "      <th>XPML11.SA</th>\n",
       "      <th>HGRE11.SA</th>\n",
       "    </tr>\n",
       "  </thead>\n",
       "  <tbody>\n",
       "    <tr>\n",
       "      <th>HSML11.SA</th>\n",
       "      <td>1.000000</td>\n",
       "      <td>0.905440</td>\n",
       "      <td>0.962777</td>\n",
       "      <td>0.658133</td>\n",
       "      <td>0.949031</td>\n",
       "      <td>0.948534</td>\n",
       "      <td>0.930763</td>\n",
       "      <td>0.928182</td>\n",
       "      <td>0.909371</td>\n",
       "      <td>0.890364</td>\n",
       "      <td>0.882285</td>\n",
       "    </tr>\n",
       "    <tr>\n",
       "      <th>HGRU11.SA</th>\n",
       "      <td>0.905440</td>\n",
       "      <td>1.000000</td>\n",
       "      <td>0.835967</td>\n",
       "      <td>0.594633</td>\n",
       "      <td>0.806618</td>\n",
       "      <td>0.856813</td>\n",
       "      <td>0.908921</td>\n",
       "      <td>0.926872</td>\n",
       "      <td>0.781145</td>\n",
       "      <td>0.849561</td>\n",
       "      <td>0.707436</td>\n",
       "    </tr>\n",
       "    <tr>\n",
       "      <th>BRCR11.SA</th>\n",
       "      <td>0.962777</td>\n",
       "      <td>0.835967</td>\n",
       "      <td>1.000000</td>\n",
       "      <td>0.718690</td>\n",
       "      <td>0.981103</td>\n",
       "      <td>0.970485</td>\n",
       "      <td>0.915035</td>\n",
       "      <td>0.879227</td>\n",
       "      <td>0.962987</td>\n",
       "      <td>0.905125</td>\n",
       "      <td>0.932410</td>\n",
       "    </tr>\n",
       "    <tr>\n",
       "      <th>MGFF11.SA</th>\n",
       "      <td>0.658133</td>\n",
       "      <td>0.594633</td>\n",
       "      <td>0.718690</td>\n",
       "      <td>1.000000</td>\n",
       "      <td>0.719288</td>\n",
       "      <td>0.766263</td>\n",
       "      <td>0.801775</td>\n",
       "      <td>0.782913</td>\n",
       "      <td>0.805361</td>\n",
       "      <td>0.800070</td>\n",
       "      <td>0.636313</td>\n",
       "    </tr>\n",
       "    <tr>\n",
       "      <th>RBRF11.SA</th>\n",
       "      <td>0.949031</td>\n",
       "      <td>0.806618</td>\n",
       "      <td>0.981103</td>\n",
       "      <td>0.719288</td>\n",
       "      <td>1.000000</td>\n",
       "      <td>0.963734</td>\n",
       "      <td>0.904008</td>\n",
       "      <td>0.873290</td>\n",
       "      <td>0.952893</td>\n",
       "      <td>0.907762</td>\n",
       "      <td>0.918545</td>\n",
       "    </tr>\n",
       "    <tr>\n",
       "      <th>ALZR11.SA</th>\n",
       "      <td>0.948534</td>\n",
       "      <td>0.856813</td>\n",
       "      <td>0.970485</td>\n",
       "      <td>0.766263</td>\n",
       "      <td>0.963734</td>\n",
       "      <td>1.000000</td>\n",
       "      <td>0.960112</td>\n",
       "      <td>0.929113</td>\n",
       "      <td>0.963483</td>\n",
       "      <td>0.940897</td>\n",
       "      <td>0.909538</td>\n",
       "    </tr>\n",
       "    <tr>\n",
       "      <th>HGLG11.SA</th>\n",
       "      <td>0.930763</td>\n",
       "      <td>0.908921</td>\n",
       "      <td>0.915035</td>\n",
       "      <td>0.801775</td>\n",
       "      <td>0.904008</td>\n",
       "      <td>0.960112</td>\n",
       "      <td>1.000000</td>\n",
       "      <td>0.978107</td>\n",
       "      <td>0.913247</td>\n",
       "      <td>0.927209</td>\n",
       "      <td>0.832584</td>\n",
       "    </tr>\n",
       "    <tr>\n",
       "      <th>XPLG11.SA</th>\n",
       "      <td>0.928182</td>\n",
       "      <td>0.926872</td>\n",
       "      <td>0.879227</td>\n",
       "      <td>0.782913</td>\n",
       "      <td>0.873290</td>\n",
       "      <td>0.929113</td>\n",
       "      <td>0.978107</td>\n",
       "      <td>1.000000</td>\n",
       "      <td>0.872016</td>\n",
       "      <td>0.924611</td>\n",
       "      <td>0.777092</td>\n",
       "    </tr>\n",
       "    <tr>\n",
       "      <th>VRTA11.SA</th>\n",
       "      <td>0.909371</td>\n",
       "      <td>0.781145</td>\n",
       "      <td>0.962987</td>\n",
       "      <td>0.805361</td>\n",
       "      <td>0.952893</td>\n",
       "      <td>0.963483</td>\n",
       "      <td>0.913247</td>\n",
       "      <td>0.872016</td>\n",
       "      <td>1.000000</td>\n",
       "      <td>0.921735</td>\n",
       "      <td>0.926896</td>\n",
       "    </tr>\n",
       "    <tr>\n",
       "      <th>XPML11.SA</th>\n",
       "      <td>0.890364</td>\n",
       "      <td>0.849561</td>\n",
       "      <td>0.905125</td>\n",
       "      <td>0.800070</td>\n",
       "      <td>0.907762</td>\n",
       "      <td>0.940897</td>\n",
       "      <td>0.927209</td>\n",
       "      <td>0.924611</td>\n",
       "      <td>0.921735</td>\n",
       "      <td>1.000000</td>\n",
       "      <td>0.860979</td>\n",
       "    </tr>\n",
       "    <tr>\n",
       "      <th>HGRE11.SA</th>\n",
       "      <td>0.882285</td>\n",
       "      <td>0.707436</td>\n",
       "      <td>0.932410</td>\n",
       "      <td>0.636313</td>\n",
       "      <td>0.918545</td>\n",
       "      <td>0.909538</td>\n",
       "      <td>0.832584</td>\n",
       "      <td>0.777092</td>\n",
       "      <td>0.926896</td>\n",
       "      <td>0.860979</td>\n",
       "      <td>1.000000</td>\n",
       "    </tr>\n",
       "  </tbody>\n",
       "</table>\n",
       "</div>"
      ],
      "text/plain": [
       "           HSML11.SA  HGRU11.SA  BRCR11.SA  MGFF11.SA  RBRF11.SA  ALZR11.SA  \\\n",
       "HSML11.SA   1.000000   0.905440   0.962777   0.658133   0.949031   0.948534   \n",
       "HGRU11.SA   0.905440   1.000000   0.835967   0.594633   0.806618   0.856813   \n",
       "BRCR11.SA   0.962777   0.835967   1.000000   0.718690   0.981103   0.970485   \n",
       "MGFF11.SA   0.658133   0.594633   0.718690   1.000000   0.719288   0.766263   \n",
       "RBRF11.SA   0.949031   0.806618   0.981103   0.719288   1.000000   0.963734   \n",
       "ALZR11.SA   0.948534   0.856813   0.970485   0.766263   0.963734   1.000000   \n",
       "HGLG11.SA   0.930763   0.908921   0.915035   0.801775   0.904008   0.960112   \n",
       "XPLG11.SA   0.928182   0.926872   0.879227   0.782913   0.873290   0.929113   \n",
       "VRTA11.SA   0.909371   0.781145   0.962987   0.805361   0.952893   0.963483   \n",
       "XPML11.SA   0.890364   0.849561   0.905125   0.800070   0.907762   0.940897   \n",
       "HGRE11.SA   0.882285   0.707436   0.932410   0.636313   0.918545   0.909538   \n",
       "\n",
       "           HGLG11.SA  XPLG11.SA  VRTA11.SA  XPML11.SA  HGRE11.SA  \n",
       "HSML11.SA   0.930763   0.928182   0.909371   0.890364   0.882285  \n",
       "HGRU11.SA   0.908921   0.926872   0.781145   0.849561   0.707436  \n",
       "BRCR11.SA   0.915035   0.879227   0.962987   0.905125   0.932410  \n",
       "MGFF11.SA   0.801775   0.782913   0.805361   0.800070   0.636313  \n",
       "RBRF11.SA   0.904008   0.873290   0.952893   0.907762   0.918545  \n",
       "ALZR11.SA   0.960112   0.929113   0.963483   0.940897   0.909538  \n",
       "HGLG11.SA   1.000000   0.978107   0.913247   0.927209   0.832584  \n",
       "XPLG11.SA   0.978107   1.000000   0.872016   0.924611   0.777092  \n",
       "VRTA11.SA   0.913247   0.872016   1.000000   0.921735   0.926896  \n",
       "XPML11.SA   0.927209   0.924611   0.921735   1.000000   0.860979  \n",
       "HGRE11.SA   0.832584   0.777092   0.926896   0.860979   1.000000  "
      ]
     },
     "execution_count": 9,
     "metadata": {},
     "output_type": "execute_result"
    }
   ],
   "source": [
    "df_fi.corr()"
   ]
  },
  {
   "cell_type": "code",
   "execution_count": 10,
   "metadata": {
    "scrolled": true
   },
   "outputs": [
    {
     "data": {
      "text/html": [
       "<div>\n",
       "<style scoped>\n",
       "    .dataframe tbody tr th:only-of-type {\n",
       "        vertical-align: middle;\n",
       "    }\n",
       "\n",
       "    .dataframe tbody tr th {\n",
       "        vertical-align: top;\n",
       "    }\n",
       "\n",
       "    .dataframe thead th {\n",
       "        text-align: right;\n",
       "    }\n",
       "</style>\n",
       "<table border=\"1\" class=\"dataframe\">\n",
       "  <thead>\n",
       "    <tr style=\"text-align: right;\">\n",
       "      <th></th>\n",
       "      <th>HSML11.SA</th>\n",
       "      <th>HGRU11.SA</th>\n",
       "      <th>BRCR11.SA</th>\n",
       "      <th>MGFF11.SA</th>\n",
       "      <th>RBRF11.SA</th>\n",
       "      <th>ALZR11.SA</th>\n",
       "      <th>HGLG11.SA</th>\n",
       "      <th>XPLG11.SA</th>\n",
       "      <th>VRTA11.SA</th>\n",
       "      <th>XPML11.SA</th>\n",
       "      <th>HGRE11.SA</th>\n",
       "    </tr>\n",
       "  </thead>\n",
       "  <tbody>\n",
       "    <tr>\n",
       "      <th>count</th>\n",
       "      <td>107.000000</td>\n",
       "      <td>107.000000</td>\n",
       "      <td>107.000000</td>\n",
       "      <td>107.000000</td>\n",
       "      <td>107.000000</td>\n",
       "      <td>107.000000</td>\n",
       "      <td>84.000000</td>\n",
       "      <td>107.000000</td>\n",
       "      <td>107.000000</td>\n",
       "      <td>107.000000</td>\n",
       "      <td>107.000000</td>\n",
       "    </tr>\n",
       "    <tr>\n",
       "      <th>mean</th>\n",
       "      <td>108.508224</td>\n",
       "      <td>121.825701</td>\n",
       "      <td>98.880841</td>\n",
       "      <td>110.622523</td>\n",
       "      <td>111.640935</td>\n",
       "      <td>115.696542</td>\n",
       "      <td>175.931309</td>\n",
       "      <td>118.745234</td>\n",
       "      <td>128.705327</td>\n",
       "      <td>122.602430</td>\n",
       "      <td>171.261495</td>\n",
       "    </tr>\n",
       "    <tr>\n",
       "      <th>std</th>\n",
       "      <td>8.190491</td>\n",
       "      <td>10.190596</td>\n",
       "      <td>9.828539</td>\n",
       "      <td>8.979284</td>\n",
       "      <td>9.782837</td>\n",
       "      <td>12.391921</td>\n",
       "      <td>18.363399</td>\n",
       "      <td>15.146545</td>\n",
       "      <td>6.711927</td>\n",
       "      <td>10.992321</td>\n",
       "      <td>17.039272</td>\n",
       "    </tr>\n",
       "    <tr>\n",
       "      <th>min</th>\n",
       "      <td>101.500000</td>\n",
       "      <td>111.980003</td>\n",
       "      <td>90.000000</td>\n",
       "      <td>98.199997</td>\n",
       "      <td>103.800003</td>\n",
       "      <td>104.489998</td>\n",
       "      <td>153.449997</td>\n",
       "      <td>101.750000</td>\n",
       "      <td>120.419998</td>\n",
       "      <td>110.610001</td>\n",
       "      <td>147.199997</td>\n",
       "    </tr>\n",
       "    <tr>\n",
       "      <th>25%</th>\n",
       "      <td>102.800003</td>\n",
       "      <td>113.500000</td>\n",
       "      <td>92.049999</td>\n",
       "      <td>103.049999</td>\n",
       "      <td>104.970001</td>\n",
       "      <td>105.919998</td>\n",
       "      <td>159.857506</td>\n",
       "      <td>106.000000</td>\n",
       "      <td>123.750000</td>\n",
       "      <td>112.380001</td>\n",
       "      <td>159.195000</td>\n",
       "    </tr>\n",
       "    <tr>\n",
       "      <th>50%</th>\n",
       "      <td>103.980003</td>\n",
       "      <td>114.900002</td>\n",
       "      <td>93.910004</td>\n",
       "      <td>107.010002</td>\n",
       "      <td>107.750000</td>\n",
       "      <td>111.779999</td>\n",
       "      <td>173.794998</td>\n",
       "      <td>109.290001</td>\n",
       "      <td>127.480003</td>\n",
       "      <td>120.000000</td>\n",
       "      <td>167.300003</td>\n",
       "    </tr>\n",
       "    <tr>\n",
       "      <th>75%</th>\n",
       "      <td>113.500000</td>\n",
       "      <td>134.245003</td>\n",
       "      <td>102.355000</td>\n",
       "      <td>118.049999</td>\n",
       "      <td>114.049999</td>\n",
       "      <td>122.329998</td>\n",
       "      <td>193.049995</td>\n",
       "      <td>131.900002</td>\n",
       "      <td>129.995003</td>\n",
       "      <td>130.445000</td>\n",
       "      <td>177.400002</td>\n",
       "    </tr>\n",
       "    <tr>\n",
       "      <th>max</th>\n",
       "      <td>125.959999</td>\n",
       "      <td>140.000000</td>\n",
       "      <td>124.000000</td>\n",
       "      <td>132.990005</td>\n",
       "      <td>138.699997</td>\n",
       "      <td>148.990005</td>\n",
       "      <td>221.139999</td>\n",
       "      <td>149.979996</td>\n",
       "      <td>146.300003</td>\n",
       "      <td>147.000000</td>\n",
       "      <td>213.360001</td>\n",
       "    </tr>\n",
       "  </tbody>\n",
       "</table>\n",
       "</div>"
      ],
      "text/plain": [
       "        HSML11.SA   HGRU11.SA   BRCR11.SA   MGFF11.SA   RBRF11.SA   ALZR11.SA  \\\n",
       "count  107.000000  107.000000  107.000000  107.000000  107.000000  107.000000   \n",
       "mean   108.508224  121.825701   98.880841  110.622523  111.640935  115.696542   \n",
       "std      8.190491   10.190596    9.828539    8.979284    9.782837   12.391921   \n",
       "min    101.500000  111.980003   90.000000   98.199997  103.800003  104.489998   \n",
       "25%    102.800003  113.500000   92.049999  103.049999  104.970001  105.919998   \n",
       "50%    103.980003  114.900002   93.910004  107.010002  107.750000  111.779999   \n",
       "75%    113.500000  134.245003  102.355000  118.049999  114.049999  122.329998   \n",
       "max    125.959999  140.000000  124.000000  132.990005  138.699997  148.990005   \n",
       "\n",
       "        HGLG11.SA   XPLG11.SA   VRTA11.SA   XPML11.SA   HGRE11.SA  \n",
       "count   84.000000  107.000000  107.000000  107.000000  107.000000  \n",
       "mean   175.931309  118.745234  128.705327  122.602430  171.261495  \n",
       "std     18.363399   15.146545    6.711927   10.992321   17.039272  \n",
       "min    153.449997  101.750000  120.419998  110.610001  147.199997  \n",
       "25%    159.857506  106.000000  123.750000  112.380001  159.195000  \n",
       "50%    173.794998  109.290001  127.480003  120.000000  167.300003  \n",
       "75%    193.049995  131.900002  129.995003  130.445000  177.400002  \n",
       "max    221.139999  149.979996  146.300003  147.000000  213.360001  "
      ]
     },
     "execution_count": 10,
     "metadata": {},
     "output_type": "execute_result"
    }
   ],
   "source": [
    "df_FI.describe()"
   ]
  },
  {
   "cell_type": "code",
   "execution_count": 11,
   "metadata": {
    "scrolled": true
   },
   "outputs": [],
   "source": [
    "# dados iniciados em meados de setembro\n",
    "log_return = np.log(df_fi/df_fi.shift(1))"
   ]
  },
  {
   "cell_type": "code",
   "execution_count": 12,
   "metadata": {
    "scrolled": false
   },
   "outputs": [
    {
     "data": {
      "text/plain": [
       "<matplotlib.axes._subplots.AxesSubplot at 0x1db61b12400>"
      ]
     },
     "execution_count": 12,
     "metadata": {},
     "output_type": "execute_result"
    },
    {
     "data": {
      "image/png": "[encoded data removed]",
      "text/plain": [
       "<Figure size 864x360 with 1 Axes>"
      ]
     },
     "metadata": {
      "needs_background": "light"
     },
     "output_type": "display_data"
    }
   ],
   "source": [
    "plt.figure(figsize=(12,5))\n",
    "sns.boxplot(data=log_return, palette='tab10')"
   ]
  },
  {
   "cell_type": "code",
   "execution_count": 13,
   "metadata": {},
   "outputs": [
    {
     "data": {
      "text/plain": [
       "HSML11.SA    0.146636\n",
       "HGRU11.SA    0.158420\n",
       "BRCR11.SA    0.217890\n",
       "MGFF11.SA    0.137545\n",
       "RBRF11.SA    0.208975\n",
       "ALZR11.SA    0.184581\n",
       "HGLG11.SA    0.170170\n",
       "XPLG11.SA    0.264228\n",
       "VRTA11.SA    0.109989\n",
       "XPML11.SA    0.212797\n",
       "HGRE11.SA    0.203070\n",
       "dtype: float64"
      ]
     },
     "execution_count": 13,
     "metadata": {},
     "output_type": "execute_result"
    }
   ],
   "source": [
    "log_return.mean()*75"
   ]
  },
  {
   "cell_type": "code",
   "execution_count": 14,
   "metadata": {},
   "outputs": [
    {
     "data": {
      "text/plain": [
       "HSML11.SA    0.008405\n",
       "HGRU11.SA    0.016474\n",
       "BRCR11.SA    0.010958\n",
       "MGFF11.SA    0.018795\n",
       "RBRF11.SA    0.013326\n",
       "ALZR11.SA    0.015008\n",
       "HGLG11.SA    0.013132\n",
       "XPLG11.SA    0.011319\n",
       "VRTA11.SA    0.009829\n",
       "XPML11.SA    0.011518\n",
       "HGRE11.SA    0.015038\n",
       "dtype: float64"
      ]
     },
     "execution_count": 14,
     "metadata": {},
     "output_type": "execute_result"
    }
   ],
   "source": [
    "log_return.std()"
   ]
  },
  {
   "cell_type": "markdown",
   "metadata": {},
   "source": [
    "# Trocar ativos aqui"
   ]
  },
  {
   "cell_type": "code",
   "execution_count": 15,
   "metadata": {},
   "outputs": [],
   "source": [
    "# selecionados 'HSML11.SA', 'MGFF11.SA', 'HGRU11.SA' (menor risco)\n",
    "# selecionados 'XPLG11.SA', 'MGFF11.SA', 'BRCR11.SA' (maior retorno)\n",
    "\n",
    "df_carteira = pd.DataFrame()\n",
    "\n",
    "df_carteira = df_fi.loc[:,['XPLG11.SA','MGFF11.SA', 'BRCR11.SA']]  "
   ]
  },
  {
   "cell_type": "code",
   "execution_count": 16,
   "metadata": {},
   "outputs": [],
   "source": [
    "log_carteira = np.log(df_carteira/df_carteira.shift(1))\n"
   ]
  },
  {
   "cell_type": "code",
   "execution_count": 17,
   "metadata": {},
   "outputs": [],
   "source": [
    "# selecionados 'HSML11.SA', 'MGFF11.SA', 'HGRU11.SA'\n",
    "# selecionados 'XPLG11.SA', 'MGFF11.SA', 'BRCR11.SA'\n",
    "a1_var = log_carteira['XPLG11.SA'].var()\n",
    "a2_var = log_carteira['MGFF11.SA'].var()\n",
    "a3_var = log_carteira['BRCR11.SA'].var()"
   ]
  },
  {
   "cell_type": "code",
   "execution_count": 18,
   "metadata": {},
   "outputs": [],
   "source": [
    "# por período\n",
    "a1_var_p= log_carteira['XPLG11.SA'].var()*75\n",
    "a2_var_p= log_carteira['MGFF11.SA'].var()*75\n",
    "a3_var_p= log_carteira['BRCR11.SA'].var()*75"
   ]
  },
  {
   "cell_type": "code",
   "execution_count": 19,
   "metadata": {},
   "outputs": [],
   "source": [
    "cov_matrix = log_carteira.cov()"
   ]
  },
  {
   "cell_type": "code",
   "execution_count": 20,
   "metadata": {},
   "outputs": [],
   "source": [
    "cov_matrix_p = log_carteira.cov()*75"
   ]
  },
  {
   "cell_type": "code",
   "execution_count": 21,
   "metadata": {},
   "outputs": [],
   "source": [
    "corr_matrix = log_carteira.corr()"
   ]
  },
  {
   "cell_type": "markdown",
   "metadata": {},
   "source": [
    "# Peso dos ativos"
   ]
  },
  {
   "cell_type": "code",
   "execution_count": 22,
   "metadata": {},
   "outputs": [],
   "source": [
    "# peso do investimento \n",
    "\n",
    "peso = np.array([0.3,0.4,0.3])"
   ]
  },
  {
   "cell_type": "code",
   "execution_count": 23,
   "metadata": {},
   "outputs": [
    {
     "data": {
      "text/plain": [
       "0.0884104903799497"
      ]
     },
     "execution_count": 23,
     "metadata": {},
     "output_type": "execute_result"
    }
   ],
   "source": [
    "carteira_var = np.dot(peso.T, np.dot(cov_matrix_p,peso))\n",
    "carteira_var**0.5"
   ]
  },
  {
   "cell_type": "code",
   "execution_count": 24,
   "metadata": {},
   "outputs": [
    {
     "name": "stdout",
     "output_type": "stream",
     "text": [
      "O risco da carteira é 8.841000000000001 %\n"
     ]
    }
   ],
   "source": [
    "print( 'O risco da carteira é '+ str(round(carteira_var**0.5,5)*100)+ ' %')"
   ]
  },
  {
   "cell_type": "code",
   "execution_count": 25,
   "metadata": {},
   "outputs": [
    {
     "data": {
      "text/plain": [
       "XPLG11.SA    101.750000\n",
       "MGFF11.SA    102.000000\n",
       "BRCR11.SA     92.449997\n",
       "Name: 2019-09-18 00:00:00, dtype: float64"
      ]
     },
     "execution_count": 25,
     "metadata": {},
     "output_type": "execute_result"
    }
   ],
   "source": [
    "df_carteira.iloc[0]"
   ]
  },
  {
   "cell_type": "markdown",
   "metadata": {},
   "source": [
    "### Normalizando retornos"
   ]
  },
  {
   "cell_type": "code",
   "execution_count": 26,
   "metadata": {
    "scrolled": false
   },
   "outputs": [
    {
     "data": {
      "text/plain": [
       "<matplotlib.axes._subplots.AxesSubplot at 0x1db6201d748>"
      ]
     },
     "execution_count": 26,
     "metadata": {},
     "output_type": "execute_result"
    },
    {
     "data": {
      "image/png": "[encoded data removed]",
      "text/plain": [
       "<Figure size 1080x432 with 1 Axes>"
      ]
     },
     "metadata": {
      "needs_background": "light"
     },
     "output_type": "display_data"
    }
   ],
   "source": [
    "( df_carteira/ df_carteira.iloc[0] * 100).plot(figsize= (15,6))"
   ]
  },
  {
   "cell_type": "code",
   "execution_count": 27,
   "metadata": {},
   "outputs": [
    {
     "data": {
      "text/plain": [
       "0.19965327688657858"
      ]
     },
     "execution_count": 27,
     "metadata": {},
     "output_type": "execute_result"
    }
   ],
   "source": [
    "np.dot(log_carteira.mean() * 75 ,peso)"
   ]
  },
  {
   "cell_type": "code",
   "execution_count": 28,
   "metadata": {},
   "outputs": [
    {
     "data": {
      "text/plain": [
       "<matplotlib.axes._subplots.AxesSubplot at 0x1db620b1828>"
      ]
     },
     "execution_count": 28,
     "metadata": {},
     "output_type": "execute_result"
    },
    {
     "data": {
      "image/png": "[encoded data removed]",
      "text/plain": [
       "<Figure size 720x576 with 1 Axes>"
      ]
     },
     "metadata": {
      "needs_background": "light"
     },
     "output_type": "display_data"
    }
   ],
   "source": [
    "plt.figure(figsize=(10,8))\n",
    "sns.boxplot(data = log_carteira)"
   ]
  },
  {
   "cell_type": "code",
   "execution_count": 29,
   "metadata": {},
   "outputs": [
    {
     "name": "stdout",
     "output_type": "stream",
     "text": [
      "A carteira possui retorno esperado de 19.965 % e risco de 8.841000000000001 %\n"
     ]
    }
   ],
   "source": [
    "print(('A carteira possui retorno esperado de ' + str(round(np.dot(log_carteira.mean() * 75 ,peso),5)*100)+' %') + ( ' e risco de '+ str(round(carteira_var**0.5,5)*100)+ ' %'))"
   ]
  },
  {
   "cell_type": "code",
   "execution_count": 30,
   "metadata": {
    "scrolled": true
   },
   "outputs": [],
   "source": [
    "import matplotlib.pyplot as plt\n",
    "from mpl_finance import candlestick_ohlc\n",
    "import matplotlib.dates as mdates\n"
   ]
  },
  {
   "cell_type": "markdown",
   "metadata": {},
   "source": [
    "## Fazendo gráfico de vela"
   ]
  },
  {
   "cell_type": "code",
   "execution_count": 31,
   "metadata": {},
   "outputs": [
    {
     "name": "stderr",
     "output_type": "stream",
     "text": [
      "C:\\Users\\ADM\\Anaconda3\\lib\\site-packages\\ipykernel_launcher.py:12: FutureWarning: using a dict on a Series for aggregation\n",
      "is deprecated and will be removed in a future version\n",
      "  if sys.path[0] == '':\n"
     ]
    },
    {
     "data": {
      "text/html": [
       "<div>\n",
       "<style scoped>\n",
       "    .dataframe tbody tr th:only-of-type {\n",
       "        vertical-align: middle;\n",
       "    }\n",
       "\n",
       "    .dataframe tbody tr th {\n",
       "        vertical-align: top;\n",
       "    }\n",
       "\n",
       "    .dataframe thead th {\n",
       "        text-align: right;\n",
       "    }\n",
       "</style>\n",
       "<table border=\"1\" class=\"dataframe\">\n",
       "  <thead>\n",
       "    <tr style=\"text-align: right;\">\n",
       "      <th></th>\n",
       "      <th>Date</th>\n",
       "      <th>Open</th>\n",
       "      <th>High</th>\n",
       "      <th>Low</th>\n",
       "      <th>Close</th>\n",
       "    </tr>\n",
       "  </thead>\n",
       "  <tbody>\n",
       "    <tr>\n",
       "      <th>51</th>\n",
       "      <td>737422.0</td>\n",
       "      <td>144.199997</td>\n",
       "      <td>146.000000</td>\n",
       "      <td>144.199997</td>\n",
       "      <td>146.000000</td>\n",
       "    </tr>\n",
       "    <tr>\n",
       "      <th>52</th>\n",
       "      <td>737429.0</td>\n",
       "      <td>148.000000</td>\n",
       "      <td>149.979996</td>\n",
       "      <td>148.000000</td>\n",
       "      <td>149.949997</td>\n",
       "    </tr>\n",
       "    <tr>\n",
       "      <th>53</th>\n",
       "      <td>737436.0</td>\n",
       "      <td>145.500000</td>\n",
       "      <td>145.500000</td>\n",
       "      <td>136.399994</td>\n",
       "      <td>139.250000</td>\n",
       "    </tr>\n",
       "    <tr>\n",
       "      <th>54</th>\n",
       "      <td>737443.0</td>\n",
       "      <td>139.910004</td>\n",
       "      <td>139.979996</td>\n",
       "      <td>136.009995</td>\n",
       "      <td>136.009995</td>\n",
       "    </tr>\n",
       "    <tr>\n",
       "      <th>55</th>\n",
       "      <td>737450.0</td>\n",
       "      <td>136.410004</td>\n",
       "      <td>136.410004</td>\n",
       "      <td>136.309998</td>\n",
       "      <td>136.309998</td>\n",
       "    </tr>\n",
       "  </tbody>\n",
       "</table>\n",
       "</div>"
      ],
      "text/plain": [
       "        Date        Open        High         Low       Close\n",
       "51  737422.0  144.199997  146.000000  144.199997  146.000000\n",
       "52  737429.0  148.000000  149.979996  148.000000  149.949997\n",
       "53  737436.0  145.500000  145.500000  136.399994  139.250000\n",
       "54  737443.0  139.910004  139.979996  136.009995  136.009995\n",
       "55  737450.0  136.410004  136.410004  136.309998  136.309998"
      ]
     },
     "execution_count": 31,
     "metadata": {},
     "output_type": "execute_result"
    }
   ],
   "source": [
    "# Código que coloca o intervalo de tempo a ser analisado ('Y', '5Y','M','W', 'B', 'BM', 'SMS', 'Q', 'BQ', 'H', 'S', 'BH')\n",
    "\n",
    "XPLG = web.DataReader('XPLG11.SA', data_source='yahoo', start= '2019-1-1')\n",
    "\n",
    "time_grouper = 'W'\n",
    "tmp_open = XPLG.groupby(\n",
    "    pd.Grouper( freq = time_grouper))['Adj Close'].nth([0])\n",
    "tmp_close = XPLG.groupby(\n",
    "    pd.Grouper(freq = time_grouper))['Adj Close'].nth([-1])\n",
    "XPLG = XPLG.groupby(\n",
    "    pd.Grouper(freq = time_grouper))['Adj Close'].agg(\n",
    "    {'Low' : np.min , 'High' : np.max }).reset_index()\n",
    "XPLG['Open'] = tmp_open.values\n",
    "XPLG['Close'] = tmp_close.values\n",
    "\n",
    "XPLG = XPLG[['Date','Open', 'High', 'Low', 'Close']]\n",
    "\n",
    "# Convertendo data em float\n",
    "\n",
    "XPLG[\"Date\"] = XPLG[\"Date\"].apply(mdates.date2num)\n",
    "\n",
    "XPLG.tail()"
   ]
  },
  {
   "cell_type": "code",
   "execution_count": 32,
   "metadata": {},
   "outputs": [
    {
     "name": "stderr",
     "output_type": "stream",
     "text": [
      "C:\\Users\\ADM\\Anaconda3\\lib\\site-packages\\ipykernel_launcher.py:10: FutureWarning: using a dict on a Series for aggregation\n",
      "is deprecated and will be removed in a future version\n",
      "  # Remove the CWD from sys.path while we load stuff.\n"
     ]
    },
    {
     "data": {
      "text/html": [
       "<div>\n",
       "<style scoped>\n",
       "    .dataframe tbody tr th:only-of-type {\n",
       "        vertical-align: middle;\n",
       "    }\n",
       "\n",
       "    .dataframe tbody tr th {\n",
       "        vertical-align: top;\n",
       "    }\n",
       "\n",
       "    .dataframe thead th {\n",
       "        text-align: right;\n",
       "    }\n",
       "</style>\n",
       "<table border=\"1\" class=\"dataframe\">\n",
       "  <thead>\n",
       "    <tr style=\"text-align: right;\">\n",
       "      <th></th>\n",
       "      <th>Date</th>\n",
       "      <th>Open</th>\n",
       "      <th>High</th>\n",
       "      <th>Low</th>\n",
       "      <th>Close</th>\n",
       "    </tr>\n",
       "  </thead>\n",
       "  <tbody>\n",
       "    <tr>\n",
       "      <th>51</th>\n",
       "      <td>737422.0</td>\n",
       "      <td>123.000000</td>\n",
       "      <td>127.500000</td>\n",
       "      <td>123.000000</td>\n",
       "      <td>127.500000</td>\n",
       "    </tr>\n",
       "    <tr>\n",
       "      <th>52</th>\n",
       "      <td>737429.0</td>\n",
       "      <td>128.559998</td>\n",
       "      <td>132.990005</td>\n",
       "      <td>128.559998</td>\n",
       "      <td>132.990005</td>\n",
       "    </tr>\n",
       "    <tr>\n",
       "      <th>53</th>\n",
       "      <td>737436.0</td>\n",
       "      <td>129.600006</td>\n",
       "      <td>129.600006</td>\n",
       "      <td>118.000000</td>\n",
       "      <td>118.000000</td>\n",
       "    </tr>\n",
       "    <tr>\n",
       "      <th>54</th>\n",
       "      <td>737443.0</td>\n",
       "      <td>118.199997</td>\n",
       "      <td>120.019997</td>\n",
       "      <td>118.199997</td>\n",
       "      <td>120.019997</td>\n",
       "    </tr>\n",
       "    <tr>\n",
       "      <th>55</th>\n",
       "      <td>737450.0</td>\n",
       "      <td>119.989998</td>\n",
       "      <td>119.989998</td>\n",
       "      <td>118.790001</td>\n",
       "      <td>118.790001</td>\n",
       "    </tr>\n",
       "  </tbody>\n",
       "</table>\n",
       "</div>"
      ],
      "text/plain": [
       "        Date        Open        High         Low       Close\n",
       "51  737422.0  123.000000  127.500000  123.000000  127.500000\n",
       "52  737429.0  128.559998  132.990005  128.559998  132.990005\n",
       "53  737436.0  129.600006  129.600006  118.000000  118.000000\n",
       "54  737443.0  118.199997  120.019997  118.199997  120.019997\n",
       "55  737450.0  119.989998  119.989998  118.790001  118.790001"
      ]
     },
     "execution_count": 32,
     "metadata": {},
     "output_type": "execute_result"
    }
   ],
   "source": [
    "MGFF = web.DataReader('MGFF11.SA', data_source='yahoo', start= '2019-1-1')\n",
    "\n",
    "time_grouper = 'W'\n",
    "tmp_open = MGFF.groupby(\n",
    "    pd.Grouper( freq = time_grouper))['Adj Close'].nth([0])\n",
    "tmp_close = MGFF.groupby(\n",
    "    pd.Grouper(freq = time_grouper))['Adj Close'].nth([-1])\n",
    "MGFF = MGFF.groupby(\n",
    "    pd.Grouper(freq = time_grouper))['Adj Close'].agg(\n",
    "    {'Low' : np.min , 'High' : np.max }).reset_index()\n",
    "MGFF['Open'] = tmp_open.values\n",
    "MGFF['Close'] = tmp_close.values\n",
    "\n",
    "MGFF = MGFF[['Date','Open', 'High', 'Low', 'Close']]\n",
    "\n",
    "# Convertendo data em float\n",
    "\n",
    "MGFF[\"Date\"] = MGFF[\"Date\"].apply(mdates.date2num)\n",
    "\n",
    "MGFF.tail()"
   ]
  },
  {
   "cell_type": "code",
   "execution_count": 33,
   "metadata": {},
   "outputs": [
    {
     "name": "stderr",
     "output_type": "stream",
     "text": [
      "C:\\Users\\ADM\\Anaconda3\\lib\\site-packages\\ipykernel_launcher.py:10: FutureWarning: using a dict on a Series for aggregation\n",
      "is deprecated and will be removed in a future version\n",
      "  # Remove the CWD from sys.path while we load stuff.\n"
     ]
    },
    {
     "data": {
      "text/html": [
       "<div>\n",
       "<style scoped>\n",
       "    .dataframe tbody tr th:only-of-type {\n",
       "        vertical-align: middle;\n",
       "    }\n",
       "\n",
       "    .dataframe tbody tr th {\n",
       "        vertical-align: top;\n",
       "    }\n",
       "\n",
       "    .dataframe thead th {\n",
       "        text-align: right;\n",
       "    }\n",
       "</style>\n",
       "<table border=\"1\" class=\"dataframe\">\n",
       "  <thead>\n",
       "    <tr style=\"text-align: right;\">\n",
       "      <th></th>\n",
       "      <th>Date</th>\n",
       "      <th>Open</th>\n",
       "      <th>High</th>\n",
       "      <th>Low</th>\n",
       "      <th>Close</th>\n",
       "    </tr>\n",
       "  </thead>\n",
       "  <tbody>\n",
       "    <tr>\n",
       "      <th>51</th>\n",
       "      <td>737422.0</td>\n",
       "      <td>109.849998</td>\n",
       "      <td>118.000000</td>\n",
       "      <td>109.849998</td>\n",
       "      <td>118.000000</td>\n",
       "    </tr>\n",
       "    <tr>\n",
       "      <th>52</th>\n",
       "      <td>737429.0</td>\n",
       "      <td>117.809998</td>\n",
       "      <td>120.000000</td>\n",
       "      <td>117.809998</td>\n",
       "      <td>120.000000</td>\n",
       "    </tr>\n",
       "    <tr>\n",
       "      <th>53</th>\n",
       "      <td>737436.0</td>\n",
       "      <td>121.500000</td>\n",
       "      <td>124.000000</td>\n",
       "      <td>119.070000</td>\n",
       "      <td>119.650002</td>\n",
       "    </tr>\n",
       "    <tr>\n",
       "      <th>54</th>\n",
       "      <td>737443.0</td>\n",
       "      <td>119.169998</td>\n",
       "      <td>119.949997</td>\n",
       "      <td>118.000000</td>\n",
       "      <td>119.300003</td>\n",
       "    </tr>\n",
       "    <tr>\n",
       "      <th>55</th>\n",
       "      <td>737450.0</td>\n",
       "      <td>118.500000</td>\n",
       "      <td>118.500000</td>\n",
       "      <td>117.660004</td>\n",
       "      <td>117.660004</td>\n",
       "    </tr>\n",
       "  </tbody>\n",
       "</table>\n",
       "</div>"
      ],
      "text/plain": [
       "        Date        Open        High         Low       Close\n",
       "51  737422.0  109.849998  118.000000  109.849998  118.000000\n",
       "52  737429.0  117.809998  120.000000  117.809998  120.000000\n",
       "53  737436.0  121.500000  124.000000  119.070000  119.650002\n",
       "54  737443.0  119.169998  119.949997  118.000000  119.300003\n",
       "55  737450.0  118.500000  118.500000  117.660004  117.660004"
      ]
     },
     "execution_count": 33,
     "metadata": {},
     "output_type": "execute_result"
    }
   ],
   "source": [
    "BRCR = web.DataReader('BRCR11.SA', data_source='yahoo', start= '2019-1-1')\n",
    "\n",
    "time_grouper = 'W'\n",
    "tmp_open = BRCR.groupby(\n",
    "    pd.Grouper( freq = time_grouper))['Adj Close'].nth([0])\n",
    "tmp_close = BRCR.groupby(\n",
    "    pd.Grouper(freq = time_grouper))['Adj Close'].nth([-1])\n",
    "BRCR = BRCR.groupby(\n",
    "    pd.Grouper(freq = time_grouper))['Adj Close'].agg(\n",
    "    {'Low' : np.min , 'High' : np.max }).reset_index()\n",
    "BRCR['Open'] = tmp_open.values\n",
    "BRCR['Close'] = tmp_close.values\n",
    "\n",
    "BRCR = BRCR[['Date','Open', 'High', 'Low', 'Close']]\n",
    "\n",
    "# Convertendo data em float\n",
    "\n",
    "BRCR[\"Date\"] = BRCR[\"Date\"].apply(mdates.date2num)\n",
    "\n",
    "BRCR.tail()"
   ]
  },
  {
   "cell_type": "code",
   "execution_count": 34,
   "metadata": {},
   "outputs": [],
   "source": [
    "import matplotlib as mpl\n",
    "import matplotlib.dates as mdates\n",
    "from mpl_finance import candlestick_ohlc\n",
    "from matplotlib import style\n",
    "mpl.style.use('default')"
   ]
  },
  {
   "cell_type": "code",
   "execution_count": 35,
   "metadata": {},
   "outputs": [
    {
     "data": {
      "image/png": "[encoded data removed]",
      "text/plain": [
       "<Figure size 800x400 with 1 Axes>"
      ]
     },
     "metadata": {},
     "output_type": "display_data"
    },
    {
     "data": {
      "image/png": "[encoded data removed]",
      "text/plain": [
       "<Figure size 800x400 with 1 Axes>"
      ]
     },
     "metadata": {},
     "output_type": "display_data"
    },
    {
     "data": {
      "image/png": "[encoded data removed]",
      "text/plain": [
       "<Figure size 800x400 with 1 Axes>"
      ]
     },
     "metadata": {},
     "output_type": "display_data"
    }
   ],
   "source": [
    "# XPLG\n",
    "\n",
    "fig, ax = plt.subplots(figsize=(8,4))\n",
    "\n",
    "ax.xaxis_date()\n",
    "plt.xlabel('Date')\n",
    "\n",
    "candlestick_ohlc(ax, XPLG.values, width= 4, colorup = 'g', colordown = 'r', alpha =0.8)\n",
    "plt.grid()\n",
    "plt.title('XPLG11')\n",
    "plt.xlabel('Data')\n",
    "plt.ylabel('Preço')\n",
    "plt.show()\n",
    "\n",
    "# MGFF\n",
    "\n",
    "fig, ax = plt.subplots(figsize=(8,4))\n",
    "\n",
    "ax.xaxis_date()\n",
    "plt.xlabel('Date')\n",
    "\n",
    "candlestick_ohlc(ax, MGFF.values, width= 4, colorup = 'g', colordown = 'r', alpha =0.8)\n",
    "plt.grid()\n",
    "plt.title('MGFF11')\n",
    "plt.xlabel('Data')\n",
    "plt.ylabel('Preço')\n",
    "plt.show()\n",
    "\n",
    "# BRCR\n",
    "\n",
    "fig, ax = plt.subplots(figsize=(8,4))\n",
    "\n",
    "ax.xaxis_date()\n",
    "plt.xlabel('Date')\n",
    "\n",
    "candlestick_ohlc(ax, BRCR.values, width= 4, colorup = 'g', colordown = 'r', alpha =0.8)\n",
    "plt.grid()\n",
    "plt.title('BRCR11')\n",
    "plt.xlabel('Data')\n",
    "plt.ylabel('Preço')\n",
    "plt.show()\n",
    "\n",
    "\n",
    "\n"
   ]
  },
  {
   "cell_type": "code",
   "execution_count": null,
   "metadata": {},
   "outputs": [],
   "source": []
  }
 ],
 "metadata": {
  "kernelspec": {
   "display_name": "Python 3",
   "language": "python",
   "name": "python3"
  },
  "language_info": {
   "codemirror_mode": {
    "name": "ipython",
    "version": 3
   },
   "file_extension": ".py",
   "mimetype": "text/x-python",
   "name": "python",
   "nbconvert_exporter": "python",
   "pygments_lexer": "ipython3",
   "version": "3.7.3"
  }
 },
 "nbformat": 4,
 "nbformat_minor": 2
}
